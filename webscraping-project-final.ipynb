{
 "cells": [
  {
   "cell_type": "markdown",
   "metadata": {},
   "source": [
    "# Scraping Electricity Production of Different Countries and Indian States using Python\n",
    "![](https://i.imgur.com/y1o5APh.png)\n",
    "\n",
    "\n",
    "Wikipedia is a free content, multilingual online encyclopedia written and maintained by a community of volunteers through a model of open collaboration, using a wiki-based editing system. Individual contributors, also called editors, are known as Wikipedians. It is the largest and most-read reference work in history, and consistently one of the 15 most popular websites ranked by Alexa; as of 2021, Wikipedia was ranked the 13th most popular site. We can find any type of information on wikipedia. \n",
    "\n",
    "The page,  https://en.wikipedia.org/wiki/List_of_countries_by_electricity_production provides a list of countries by electricity production and the page https://en.wikipedia.org/wiki/Electricity_sector_in_India, which is going to be extracted from country page, discusses the electricity generation of the Indian states on Wikipedia. In this project we'll retrieve information from these two pages using _web scraping_: the process of extracting and parsing data from websites in an automated fashion using a computer program. We'll use the python libraries [requests](https://docs.python-requests.org/en/latest/) and [Beautiful Soup](https://www.crummy.com/software/BeautifulSoup/bs4/doc/) and [pandas](https://pandas.pydata.org/) to scrape data from these pages. \n",
    "\n",
    "Here's an outline of the steps we'll follow:\n",
    "\n",
    "1. Download the web pages using `requests`\n",
    "2. Parse the HTML source code using `beautifulsoup4`\n",
    "3. Extract the required information from page.\n",
    "4. Compile extracted information into python list\n",
    "5. Save the extracted information to a csv file.\n",
    "\n",
    "By the end of the project, we'll create two csv files.\n",
    "\n",
    "One csv file looks in the following format:\n",
    "```\n",
    "Country_name, Country_electricity(GWh),Production_Year,country_url\n",
    "China,\"7,503,400\",2020,https://en.wikipedia.org/wiki/Electricity_sector_in_China\n",
    "United States,\"4,286,600\",2020,https://en.wikipedia.org/wiki/Electricity_sector_in_the_United_States\n",
    "India,\"1,560,900\",2020,https://en.wikipedia.org/wiki/Electricity_sector_in_India\n",
    ".....\n",
    "```\n",
    "Another csv file looks like this:\n",
    "```\n",
    "State/Union Territory,Coal,Lignite,Gas,Diesel,Sub-TotalThermal,Nuclear,Hydel,OtherRenewable,Sub-TotalRenewable,Total, % of National total, % Renewable\n",
    "Western Region,85156,1540,10806,-,97502,1840,7392,30367,37759,137101,35.69%,27.54%\n",
    "Maharashtra,24966,-,3207,-,28173,1400,3047,10383,13430,43003,11.20%,31.23%\n",
    "....\n",
    "```\n",
    "\n",
    "## Importance of the project\n",
    "Electricity is one of the most important blessings that science has given to mankind. It has also become a part of modern life and one cannot think of a world without it. Electricity has many uses in our day to day life. It is used for lighting rooms, working fans and domestic appliances like using electric stoves, A/C and more. All these provide comfort to people. In factories, large machines are worked with the help of electricity. Essential items like food, cloth, paper and many other things are the product of electricity. Modern means of transportation and communication have been revolutionized by it. Electric trains and battery cars are quick means of travel. Electricity also provides means of amusement, radio, television and cinema, which are the most popular forms of entertainment are the result of electricity. Modern equipment like computers and robots have also been developed because of electricity. Electricity plays a pivotal role in the fields of medicines and surgery too such as X-ray, ECG. The use of electricity is increasing day by day. The growth of the electricity sector will be important to sustain the economic output of the country. Electricity is not freely available in nature, so it must be produced. The main sources for [electricity generation](https://en.wikipedia.org/wiki/Electricity_generation) are coal, lignite, gas, diesel, nuclear, solar, wind, hydro and many more. The world is moving towards renewable energy sources such as wind, solar, biomass e.t.c , which provides reliable power supplies and fuel diversification.\n",
    "\n",
    "Because of these innumerable uses of electricity it is highly recommended to scrape and analyze this information.  \n",
    "\n",
    "This project is divided into two sections:\n",
    "* Section 1: This section demonstrates the scraping process for page https://en.wikipedia.org/wiki/List_of_countries_by_electricity_production\n",
    "* Section 2: The section discusses the generation of a CSV file from page https://en.wikipedia.org/wiki/States_of_India_by_installed_power_capacity\n"
   ]
  },
  {
   "cell_type": "markdown",
   "metadata": {},
   "source": [
    "  ### How to run the code\n",
    "  You can execute the code using the \"Run\" button at the top of this page and selecting \"Run on Binder\". You can make changes and save your own version of the notebook to [Jovian](https://jovian.ai) by executing the following cells."
   ]
  },
  {
   "cell_type": "code",
   "execution_count": 1,
   "metadata": {},
   "outputs": [],
   "source": [
    "!pip install jovian --upgrade --quiet"
   ]
  },
  {
   "cell_type": "code",
   "execution_count": 2,
   "metadata": {},
   "outputs": [],
   "source": [
    "import jovian"
   ]
  },
  {
   "cell_type": "code",
   "execution_count": 3,
   "metadata": {
    "scrolled": true
   },
   "outputs": [
    {
     "data": {
      "application/javascript": [
       "window.require && require([\"base/js/namespace\"],function(Jupyter){Jupyter.notebook.save_checkpoint()})"
      ],
      "text/plain": [
       "<IPython.core.display.Javascript object>"
      ]
     },
     "metadata": {},
     "output_type": "display_data"
    },
    {
     "name": "stdout",
     "output_type": "stream",
     "text": [
      "[jovian] Updating notebook \"prasanthi-vvit/webscraping-project-final\" on https://jovian.ai\u001b[0m\n",
      "[jovian] Committed successfully! https://jovian.ai/prasanthi-vvit/webscraping-project-final\u001b[0m\n"
     ]
    },
    {
     "data": {
      "text/plain": [
       "'https://jovian.ai/prasanthi-vvit/webscraping-project-final'"
      ]
     },
     "execution_count": 3,
     "metadata": {},
     "output_type": "execute_result"
    }
   ],
   "source": [
    "# Execute this to save new versions of the notebook\n",
    "jovian.commit(project=\"webscraping-project-final\")"
   ]
  },
  {
   "cell_type": "markdown",
   "metadata": {},
   "source": [
    "## Installing the required packages\n",
    "\n",
    "As we want to scrape two different formats of data from two different pages, it is a good idea to install and import the required packages once for all. \n",
    "\n",
    "In this project, we'll use `requests` to download the web pages, `beautifulsoup4` to parse the web content and `pandas` to create dataframes and csv files.\n",
    "\n",
    "Let us install these libraries."
   ]
  },
  {
   "cell_type": "code",
   "execution_count": 4,
   "metadata": {},
   "outputs": [],
   "source": [
    "!pip install requests --upgrade --quiet\n",
    "import requests\n",
    "\n",
    "!pip install bs4 --upgrade --quiet\n",
    "from bs4 import BeautifulSoup\n",
    "\n",
    "!pip install pandas --upgrade --quiet\n",
    "import pandas as pd"
   ]
  },
  {
   "cell_type": "markdown",
   "metadata": {},
   "source": [
    "## Section 1: Scraping List of Countries by Electricity Production\n",
    "This section provides the step-by-step process for scraping the list of countries by electricity production from page https://en.wikipedia.org/wiki/List_of_countries_by_electricity_production.\n",
    "![list of countries](https://i.imgur.com/u5rEDXI.png)\n",
    "\n",
    "We'll assign the page url to a variable."
   ]
  },
  {
   "cell_type": "code",
   "execution_count": 5,
   "metadata": {},
   "outputs": [],
   "source": [
    "topic_url='https://en.wikipedia.org/wiki/List_of_countries_by_electricity_production'"
   ]
  },
  {
   "cell_type": "markdown",
   "metadata": {},
   "source": [
    "### Download the web page using `requests`\n",
    "The first step in scraping is to download the page. We'll use `requests.get` function to get the page.  "
   ]
  },
  {
   "cell_type": "code",
   "execution_count": 6,
   "metadata": {},
   "outputs": [],
   "source": [
    "response=requests.get(topic_url)"
   ]
  },
  {
   "cell_type": "markdown",
   "metadata": {},
   "source": [
    "`requests.get` returns a response object containing the data from the web page and some other information.\n",
    "\n",
    "The `status code` property will be used to check if the response was successful. A successful response will have an [HTTP status code](https://developer.mozilla.org/en-US/docs/Web/HTTP/Status) between 200 and 299.\n"
   ]
  },
  {
   "cell_type": "code",
   "execution_count": 7,
   "metadata": {
    "scrolled": true
   },
   "outputs": [
    {
     "data": {
      "text/plain": [
       "200"
      ]
     },
     "execution_count": 7,
     "metadata": {},
     "output_type": "execute_result"
    }
   ],
   "source": [
    "response.status_code"
   ]
  },
  {
   "cell_type": "markdown",
   "metadata": {},
   "source": [
    "The request was successful! We will get the contents of the page using response.text "
   ]
  },
  {
   "cell_type": "code",
   "execution_count": 8,
   "metadata": {},
   "outputs": [],
   "source": [
    "page_contents=response.text"
   ]
  },
  {
   "cell_type": "markdown",
   "metadata": {},
   "source": [
    "\n",
    "Let's check the no.of characters on the page."
   ]
  },
  {
   "cell_type": "code",
   "execution_count": 9,
   "metadata": {},
   "outputs": [
    {
     "data": {
      "text/plain": [
       "325454"
      ]
     },
     "execution_count": 9,
     "metadata": {},
     "output_type": "execute_result"
    }
   ],
   "source": [
    "len(page_contents)"
   ]
  },
  {
   "cell_type": "markdown",
   "metadata": {},
   "source": [
    "The page contains over 323,000!\n",
    "\n",
    "Here are the first 500 characters of the page"
   ]
  },
  {
   "cell_type": "code",
   "execution_count": 10,
   "metadata": {
    "scrolled": true
   },
   "outputs": [
    {
     "data": {
      "text/plain": [
       "'<!DOCTYPE html>\\n<html class=\"client-nojs\" lang=\"en\" dir=\"ltr\">\\n<head>\\n<meta charset=\"UTF-8\"/>\\n<title>List of countries by electricity production - Wikipedia</title>\\n<script>document.documentElement.className=\"client-js\";RLCONF={\"wgBreakFrames\":false,\"wgSeparatorTransformTable\":[\"\",\"\"],\"wgDigitTransformTable\":[\"\",\"\"],\"wgDefaultDateFormat\":\"dmy\",\"wgMonthNames\":[\"\",\"January\",\"February\",\"March\",\"April\",\"May\",\"June\",\"July\",\"August\",\"September\",\"October\",\"November\",\"December\"],\"wgRequestId\":\"9f8d5c57-'"
      ]
     },
     "execution_count": 10,
     "metadata": {},
     "output_type": "execute_result"
    }
   ],
   "source": [
    "page_contents[:500]"
   ]
  },
  {
   "cell_type": "markdown",
   "metadata": {},
   "source": [
    "What we are looking at above is the [HTML source code](https://en.wikipedia.org/wiki/HTML) of the web page.\n",
    "\n",
    "We can also save it to a file and view the page locally within Jupyter using \"File > open\"."
   ]
  },
  {
   "cell_type": "code",
   "execution_count": 11,
   "metadata": {},
   "outputs": [],
   "source": [
    "with open('List_of_countries_by_electricity_production.html','w') as f:\n",
    "    f.write(page_contents)"
   ]
  },
  {
   "cell_type": "markdown",
   "metadata": {},
   "source": [
    "The page looks similar to the original page, but none of the links work.\n",
    "![](https://i.imgur.com/rMIwBla.png)\n",
    "\n",
    "We have successfully downloaded the webpage. "
   ]
  },
  {
   "cell_type": "code",
   "execution_count": 12,
   "metadata": {},
   "outputs": [
    {
     "data": {
      "application/javascript": [
       "window.require && require([\"base/js/namespace\"],function(Jupyter){Jupyter.notebook.save_checkpoint()})"
      ],
      "text/plain": [
       "<IPython.core.display.Javascript object>"
      ]
     },
     "metadata": {},
     "output_type": "display_data"
    },
    {
     "name": "stdout",
     "output_type": "stream",
     "text": [
      "[jovian] Updating notebook \"prasanthi-vvit/webscraping-project-final\" on https://jovian.ai\u001b[0m\n",
      "[jovian] Committed successfully! https://jovian.ai/prasanthi-vvit/webscraping-project-final\u001b[0m\n"
     ]
    },
    {
     "data": {
      "text/plain": [
       "'https://jovian.ai/prasanthi-vvit/webscraping-project-final'"
      ]
     },
     "execution_count": 12,
     "metadata": {},
     "output_type": "execute_result"
    }
   ],
   "source": [
    "jovian.commit()"
   ]
  },
  {
   "cell_type": "markdown",
   "metadata": {},
   "source": [
    "### Parse the HTML source code using beautiful soup\n",
    " The next step after downloading the page is to parse the HTML code. We'll use `beautifulsoup4` library to serve the purpose.\n",
    " \n",
    " Let us create a BeautifulSoup object to parse the content.\n",
    " "
   ]
  },
  {
   "cell_type": "code",
   "execution_count": 13,
   "metadata": {},
   "outputs": [],
   "source": [
    "doc=BeautifulSoup(page_contents, 'html.parser')"
   ]
  },
  {
   "cell_type": "markdown",
   "metadata": {},
   "source": [
    "The HTML source code of the web page is converted into beautifulsoup object. \n",
    "\n",
    "In Beautiful Soup library, we can specify `html.parser` to ask Python to read components of the page as a tree, instead of reading it as a long string. \n",
    "\n",
    "Let us check the type of doc object."
   ]
  },
  {
   "cell_type": "code",
   "execution_count": 14,
   "metadata": {},
   "outputs": [
    {
     "data": {
      "text/plain": [
       "bs4.BeautifulSoup"
      ]
     },
     "execution_count": 14,
     "metadata": {},
     "output_type": "execute_result"
    }
   ],
   "source": [
    "type(doc)"
   ]
  },
  {
   "cell_type": "markdown",
   "metadata": {},
   "source": [
    "\n",
    "\n",
    "BeautifulSoup object provides methods and properties to extract the data from it's document. In this project we'll use `.find` and/or `.find_all`\n",
    "methods to access the specific tags and attributes.\n",
    "\n",
    "Here are some simple ways to navigate the document:"
   ]
  },
  {
   "cell_type": "code",
   "execution_count": 15,
   "metadata": {
    "scrolled": true
   },
   "outputs": [
    {
     "data": {
      "text/plain": [
       "<title>List of countries by electricity production - Wikipedia</title>"
      ]
     },
     "execution_count": 15,
     "metadata": {},
     "output_type": "execute_result"
    }
   ],
   "source": [
    "doc.find('title')"
   ]
  },
  {
   "cell_type": "markdown",
   "metadata": {},
   "source": [
    "This has given the title of the web page"
   ]
  },
  {
   "cell_type": "code",
   "execution_count": 16,
   "metadata": {},
   "outputs": [
    {
     "data": {
      "text/plain": [
       "<img alt=\"Ambox current red Americas.svg\" data-file-height=\"290\" data-file-width=\"360\" decoding=\"async\" height=\"34\" src=\"//upload.wikimedia.org/wikipedia/commons/thumb/5/53/Ambox_current_red_Americas.svg/42px-Ambox_current_red_Americas.svg.png\" srcset=\"//upload.wikimedia.org/wikipedia/commons/thumb/5/53/Ambox_current_red_Americas.svg/63px-Ambox_current_red_Americas.svg.png 1.5x, //upload.wikimedia.org/wikipedia/commons/thumb/5/53/Ambox_current_red_Americas.svg/84px-Ambox_current_red_Americas.svg.png 2x\" width=\"42\"/>"
      ]
     },
     "execution_count": 16,
     "metadata": {},
     "output_type": "execute_result"
    }
   ],
   "source": [
    "doc.find('img')"
   ]
  },
  {
   "cell_type": "markdown",
   "metadata": {},
   "source": [
    "This has returned the first image of the page.\n"
   ]
  },
  {
   "cell_type": "markdown",
   "metadata": {},
   "source": [
    "We have successfully parsed the HTML source code of the web page using beautifulsoup."
   ]
  },
  {
   "cell_type": "code",
   "execution_count": 17,
   "metadata": {},
   "outputs": [
    {
     "data": {
      "application/javascript": [
       "window.require && require([\"base/js/namespace\"],function(Jupyter){Jupyter.notebook.save_checkpoint()})"
      ],
      "text/plain": [
       "<IPython.core.display.Javascript object>"
      ]
     },
     "metadata": {},
     "output_type": "display_data"
    },
    {
     "name": "stdout",
     "output_type": "stream",
     "text": [
      "[jovian] Updating notebook \"prasanthi-vvit/webscraping-project-final\" on https://jovian.ai\u001b[0m\n",
      "[jovian] Committed successfully! https://jovian.ai/prasanthi-vvit/webscraping-project-final\u001b[0m\n"
     ]
    },
    {
     "data": {
      "text/plain": [
       "'https://jovian.ai/prasanthi-vvit/webscraping-project-final'"
      ]
     },
     "execution_count": 17,
     "metadata": {},
     "output_type": "execute_result"
    }
   ],
   "source": [
    "jovian.commit()"
   ]
  },
  {
   "cell_type": "markdown",
   "metadata": {},
   "source": [
    "### Extract country_name, country_electricity, production_year and country_URL from the page \n",
    "The third step in scraping is to extract the information by inspecting the HTML source code.\n",
    "\n",
    "Let us now inspect the parsed HTML source code to identify the unique tags and attributes which will give us the details we need.\n",
    "\n",
    "#### Inspecting HTML code in the Browser\n",
    "\n",
    "You can view the source code of any webpage right within your browser by right-clicking anywhere on a page and selecting the \"Inspect\" option. It opens the \"Developer Tools\" pane, where you can see the source code as a tree. You can expand and collapse various nodes and find the source code for a specific portion of the page.\n",
    "\n",
    "Here's what it looks like on the Chrome browser:\n",
    "\n",
    "![](https://i.imgur.com/rj9v52C.png)\n",
    "\n",
    "Upon the inspection of the above html code, it was found that the page contains two tables and these can be accessed using `table` tag with the class \"box-Update plainlinks metadata ambox ambox-content ambox-Update\". Among these two tables, first table contains the required data. After selecting the table if we go further deep into it we can find `tr` tags with the class \"static-row-header\" as marked in the above image.\n"
   ]
  },
  {
   "cell_type": "code",
   "execution_count": 18,
   "metadata": {},
   "outputs": [],
   "source": [
    "#Access table tags using .find_all method and assign it to a variable\n",
    "table_tags=doc.find_all('table',class_='wikitable sortable static-row-numbers plainrowheaders srn-white-background')\n"
   ]
  },
  {
   "cell_type": "code",
   "execution_count": 19,
   "metadata": {},
   "outputs": [
    {
     "data": {
      "text/plain": [
       "2"
      ]
     },
     "execution_count": 19,
     "metadata": {},
     "output_type": "execute_result"
    }
   ],
   "source": [
    "#It was found that there are 2 table tags \n",
    "len(table_tags)"
   ]
  },
  {
   "cell_type": "markdown",
   "metadata": {},
   "source": [
    "The table tag is accessed using `.find_all` method.\n",
    "\n",
    "Next we'll select table1 and access the `tr` tags"
   ]
  },
  {
   "cell_type": "code",
   "execution_count": 20,
   "metadata": {},
   "outputs": [],
   "source": [
    "#Access tr_tags from first table tag\n",
    "tr_tags=table_tags[0].find_all('tr')"
   ]
  },
  {
   "cell_type": "markdown",
   "metadata": {},
   "source": [
    "The tr_tags were accessed using `.find_all` method.\n",
    "\n",
    "At this point we'll create a helper function called `get_tr_tags` which takes topic URL as an input and gives tr_tags as output.\n",
    "\n",
    "Inside this function, we define the following local variables:\n",
    "* The local variable 'response' is assigned to the response obtained when the topic URL is passed to the requests.get function.\n",
    "* A valid response has a response code of 200. If not, an exception is raised stating - the response is invalid.\n",
    "* The response is fed to the beautiful soup function and a beautifulsoup document is assigned to the 'doc' variable.\n",
    "* 'table_tag': This is obtained by passing doc.find_all.\n",
    "* The extracted `tr` tags from 'table_tags' are assigned to a variable 'tr_tags' and is returned."
   ]
  },
  {
   "cell_type": "code",
   "execution_count": 21,
   "metadata": {},
   "outputs": [],
   "source": [
    "def get_tr_tags(topic_url):\n",
    "    #download webpage using 'requests'\n",
    "    response=requests.get(topic_url)\n",
    "    #checking status code\n",
    "    if response.status_code !=200:\n",
    "        raise Exception('Unable to fetch data from',topic_url)\n",
    "    #if status code is 200, get beautiful doc using beautifulsoup\n",
    "    doc=BeautifulSoup(response.text)\n",
    "    #extract table tags from beautiful doc\n",
    "    table_tags=doc.find_all('table',class_='wikitable sortable static-row-numbers plainrowheaders srn-white-background')\n",
    "    #extract tr_tags from table_tag[0]\n",
    "    tr_tags=table_tags[0].find_all('tr')\n",
    "    return tr_tags"
   ]
  },
  {
   "cell_type": "markdown",
   "metadata": {},
   "source": [
    "Let us call the function `get_tr_tags` to test it's functionality."
   ]
  },
  {
   "cell_type": "code",
   "execution_count": 22,
   "metadata": {
    "scrolled": true
   },
   "outputs": [
    {
     "data": {
      "text/plain": [
       "[<tr class=\"static-row-header\" style=\"text-align:center;vertical-align:bottom;\">\n",
       " <th>Country/region</th>\n",
       " <th style=\"max-width:5em\">Electricity production<br/><span style=\"font-size:85%;\"><style data-mw-deduplicate=\"TemplateStyles:r886047488\">.mw-parser-output .nobold{font-weight:normal}</style><span class=\"nobold\">(GWh)</span></span></th>\n",
       " <th>Year\n",
       " </th></tr>,\n",
       " <tr class=\"static-row-header\" style=\"font-weight:bold;\">\n",
       " <th scope=\"row\" style=\"text-align:left\"> <span class=\"flagicon\" style=\"padding-left:25px;\"> </span><b>World</b>\n",
       " </th>\n",
       " <td><span data-sort-value=\"7007268232000000000♠\">26,823,200</span></td>\n",
       " <td><sup class=\"reference\" id=\"cite_ref-BP2019_1-0\"><a href=\"#cite_note-BP2019-1\">[1]</a></sup><span data-sort-value=\"000000002020-01-01-0000\" style=\"white-space:nowrap\">2020</span>\n",
       " </td></tr>]"
      ]
     },
     "execution_count": 22,
     "metadata": {},
     "output_type": "execute_result"
    }
   ],
   "source": [
    "get_tr_tags(topic_url)[0:2]"
   ]
  },
  {
   "cell_type": "markdown",
   "metadata": {},
   "source": [
    "The first three 'tr' tags alone are displayed in the output to minimize the loading time.\n",
    "\n",
    "When these `tr` tags are inspected, we find that each `tr` tag has one `th` tag and two `td` tags except first tr tag.\n",
    "\n",
    "Here we can see the first `tr` tag.\n",
    "![](https://i.imgur.com/kYAB9kS.png)\n",
    "\n",
    "It has three `th` tags and these represent table headers.\n",
    "\n",
    "Here we can see the third `tr` tag.\n",
    "![](https://i.imgur.com/1qIfRjQ.png)\n",
    "\n",
    "When the 'tr' tags are expanded, we can find the information we are looking for- country name, country electricity generation, year of production, country url. Since the second `tr` tag contains the total world generation details, we'll extract country details from third `tr` tag onwards.\n",
    "\n",
    "These are the findings when the 'tr' tags are expanded:\n",
    "* Country name is in the 'th' tag\n",
    "* Country Electricity production is in the first 'td' tag\n",
    "* Production year is in the `span` tag of the second 'td' tag\n",
    "* Country url is inside the 'a' tag in the 'th' tag"
   ]
  },
  {
   "cell_type": "code",
   "execution_count": 23,
   "metadata": {},
   "outputs": [
    {
     "data": {
      "text/plain": [
       "<th style=\"text-align:left\"><span class=\"flagicon\" style=\"display:inline-block;width:25px;text-align:left;\"><img alt=\"\" class=\"thumbborder\" data-file-height=\"600\" data-file-width=\"900\" decoding=\"async\" height=\"15\" src=\"//upload.wikimedia.org/wikipedia/commons/thumb/f/fa/Flag_of_the_People%27s_Republic_of_China.svg/23px-Flag_of_the_People%27s_Republic_of_China.svg.png\" srcset=\"//upload.wikimedia.org/wikipedia/commons/thumb/f/fa/Flag_of_the_People%27s_Republic_of_China.svg/35px-Flag_of_the_People%27s_Republic_of_China.svg.png 1.5x, //upload.wikimedia.org/wikipedia/commons/thumb/f/fa/Flag_of_the_People%27s_Republic_of_China.svg/45px-Flag_of_the_People%27s_Republic_of_China.svg.png 2x\" width=\"23\"/></span> <a href=\"/wiki/Electricity_sector_in_China\" title=\"Electricity sector in China\">China *</a>\n",
       "</th>"
      ]
     },
     "execution_count": 23,
     "metadata": {},
     "output_type": "execute_result"
    }
   ],
   "source": [
    "# to look at the `th` tag in a `tr` tag\n",
    "th_tag=tr_tags[2].find('th')\n",
    "th_tag"
   ]
  },
  {
   "cell_type": "code",
   "execution_count": 24,
   "metadata": {},
   "outputs": [
    {
     "data": {
      "text/plain": [
       "'China'"
      ]
     },
     "execution_count": 24,
     "metadata": {},
     "output_type": "execute_result"
    }
   ],
   "source": [
    "# Country name is obtained when the th_tag is passed with the text attribute.\n",
    "country_name=th_tag.text.strip().replace('\\u202f*','')\n",
    "country_name"
   ]
  },
  {
   "cell_type": "code",
   "execution_count": 25,
   "metadata": {},
   "outputs": [
    {
     "data": {
      "text/plain": [
       "'https://en.wikipedia.org/wiki/Electricity_sector_in_China'"
      ]
     },
     "execution_count": 25,
     "metadata": {},
     "output_type": "execute_result"
    }
   ],
   "source": [
    "# Country URL is obtained when the a tag in the th_tag is passed with the href attribute.\n",
    "country_path=th_tag.find('a')['href']\n",
    "country_url='https://en.wikipedia.org'+country_path\n",
    "country_url"
   ]
  },
  {
   "cell_type": "code",
   "execution_count": 26,
   "metadata": {},
   "outputs": [
    {
     "data": {
      "text/plain": [
       "[<td><span data-sort-value=\"7006750340000000000♠\">7,503,400</span></td>,\n",
       " <td><sup class=\"reference\" id=\"cite_ref-BP2019_1-1\"><a href=\"#cite_note-BP2019-1\">[1]</a></sup><span data-sort-value=\"000000002020-01-01-0000\" style=\"white-space:nowrap\">2020</span>\n",
       " </td>]"
      ]
     },
     "execution_count": 26,
     "metadata": {},
     "output_type": "execute_result"
    }
   ],
   "source": [
    "# to look at the 'td' tag in a 'tr' tag\n",
    "td_tags=tr_tags[2].find_all('td')\n",
    "td_tags"
   ]
  },
  {
   "cell_type": "code",
   "execution_count": 27,
   "metadata": {},
   "outputs": [
    {
     "data": {
      "text/plain": [
       "'7,503,400'"
      ]
     },
     "execution_count": 27,
     "metadata": {},
     "output_type": "execute_result"
    }
   ],
   "source": [
    "# Country electricity is obtained when the first td_tag is passed with the text attribute.\n",
    "\n",
    "country_electricity =td_tags[0].text\n",
    "country_electricity"
   ]
  },
  {
   "cell_type": "code",
   "execution_count": 28,
   "metadata": {},
   "outputs": [
    {
     "data": {
      "text/plain": [
       "'2020'"
      ]
     },
     "execution_count": 28,
     "metadata": {},
     "output_type": "execute_result"
    }
   ],
   "source": [
    "# production year is obtained from the span tag inside the second td_tag.\n",
    "production_year=td_tags[1].find('span').text\n",
    "production_year"
   ]
  },
  {
   "cell_type": "code",
   "execution_count": 29,
   "metadata": {},
   "outputs": [
    {
     "name": "stdout",
     "output_type": "stream",
     "text": [
      "Country_name:  China\n",
      "Country_Electricity:  7,503,400\n",
      "Production_year:  2020\n",
      "Country_URL: https://en.wikipedia.org/wiki/Electricity_sector_in_China\n"
     ]
    }
   ],
   "source": [
    "print('Country_name: ', country_name)\n",
    "print('Country_Electricity: ', country_electricity)\n",
    "print('Production_year: ', production_year)\n",
    "print('Country_URL:', country_url)"
   ]
  },
  {
   "cell_type": "markdown",
   "metadata": {},
   "source": [
    "Let us define a helper function called `get_country` to extract a country details as shown above."
   ]
  },
  {
   "cell_type": "code",
   "execution_count": 30,
   "metadata": {},
   "outputs": [],
   "source": [
    "def get_country(tr_tag):\n",
    "    #extract th tag from a tr_tag\n",
    "    th_tag=tr_tag.find('th')\n",
    "    #obtain country name which is in the 'th' tag using .text\n",
    "    country_name=th_tag.text.strip().replace('\\u202f*','')\n",
    "    #specifying base url to get country url\n",
    "    base_url='https://en.wikipedia.org'\n",
    "    #country url is concatenation of base url with the href in the th tag\n",
    "    country_url=base_url+th_tag.find('a')['href'].strip()\n",
    "    #access td tags from tr tag\n",
    "    td_tags=tr_tag.find_all('td')\n",
    "    #obtain country electricity from first td tag using .text\n",
    "    country_electricity =td_tags[0].text.strip()\n",
    "    #obtain production year from span tag inside the second td tag using .text\n",
    "    span_tag=td_tags[1].find('span')\n",
    "    if span_tag==None:\n",
    "        production_year=td_tags[1].text.replace('[4]','').strip()\n",
    "    else:\n",
    "        production_year=span_tag.text\n",
    "    #return country full details \n",
    "    return country_name, country_electricity,production_year,country_url  \n",
    "    "
   ]
  },
  {
   "cell_type": "markdown",
   "metadata": {},
   "source": [
    "The function `get_country` takes the `tr` tag as an input.\n",
    "\n",
    "Inside this function, we define the following local variables:\n",
    "\n",
    "country_name: This is the name of the country and is obtained when the th_tag is passed with the text attribute.\n",
    "\n",
    "country_electricity: This is electricity generation of the country and is obtained when the first td_tag is passed with the text.\n",
    "\n",
    "production_year: This is year of production and is obtained when the `span` tag inside the second 'td_tag' is passed with the text attribute.\n",
    "\n",
    "country_URL: This is the URL for the country on wikipedia. We extract this, when the 'a' tag in the 'th_tag' is passed with the href attribute is added to the base_url.\n",
    "\n",
    "The output of the function is a tuple containing  the local variables mentioned in the text above.\n",
    "\n"
   ]
  },
  {
   "cell_type": "code",
   "execution_count": 31,
   "metadata": {},
   "outputs": [
    {
     "data": {
      "text/plain": [
       "('Dominican Republic',\n",
       " '14,367',\n",
       " '2015',\n",
       " 'https://en.wikipedia.org/wiki/Electricity_sector_in_the_Dominican_Republic')"
      ]
     },
     "execution_count": 31,
     "metadata": {},
     "output_type": "execute_result"
    }
   ],
   "source": [
    "get_country(tr_tags[88])"
   ]
  },
  {
   "cell_type": "code",
   "execution_count": 32,
   "metadata": {},
   "outputs": [
    {
     "data": {
      "application/javascript": [
       "window.require && require([\"base/js/namespace\"],function(Jupyter){Jupyter.notebook.save_checkpoint()})"
      ],
      "text/plain": [
       "<IPython.core.display.Javascript object>"
      ]
     },
     "metadata": {},
     "output_type": "display_data"
    },
    {
     "name": "stdout",
     "output_type": "stream",
     "text": [
      "[jovian] Updating notebook \"prasanthi-vvit/webscraping-project-final\" on https://jovian.ai\u001b[0m\n",
      "[jovian] Committed successfully! https://jovian.ai/prasanthi-vvit/webscraping-project-final\u001b[0m\n"
     ]
    },
    {
     "data": {
      "text/plain": [
       "'https://jovian.ai/prasanthi-vvit/webscraping-project-final'"
      ]
     },
     "execution_count": 32,
     "metadata": {},
     "output_type": "execute_result"
    }
   ],
   "source": [
    "jovian.commit()"
   ]
  },
  {
   "cell_type": "markdown",
   "metadata": {},
   "source": [
    "### Compile extracted information into python lists\n",
    "\n",
    "In the previous step we have created a helper function to extract a country data from the beautifulsoup doc. The next step is to compile all the information into a python dictionary.\n",
    "\n",
    "Let us define a function to create a python dictionary of lists."
   ]
  },
  {
   "cell_type": "code",
   "execution_count": 33,
   "metadata": {},
   "outputs": [],
   "source": [
    "def get_all_countries(tr_tags):\n",
    "    #extract all the countries details\n",
    "    topic_countries_dict={'Country_name':[],'Country_elctricity':[],'Production_year':[],'Country_URL':[]}\n",
    "    for i in range(2,len(tr_tags)):\n",
    "        country_info=get_country(tr_tags[i])\n",
    "        topic_countries_dict['Country_name'].append(country_info[0])\n",
    "        topic_countries_dict['Country_elctricity'].append(country_info[1])\n",
    "        topic_countries_dict['Production_year'].append(country_info[2])\n",
    "        topic_countries_dict['Country_URL'].append(country_info[3])\n",
    "    return topic_countries_dict"
   ]
  },
  {
   "cell_type": "code",
   "execution_count": 34,
   "metadata": {},
   "outputs": [
    {
     "data": {
      "text/plain": [
       "['2011', '2011', '2020', '2011', '2012']"
      ]
     },
     "execution_count": 34,
     "metadata": {},
     "output_type": "execute_result"
    }
   ],
   "source": [
    "get_all_countries(tr_tags)['Production_year'][80:85]"
   ]
  },
  {
   "cell_type": "markdown",
   "metadata": {},
   "source": [
    "The function `get_country` gives the information of a single country as a tuple. Hence, we have created `get_all_countries` function to get the information of all the countries as a dictionary of lists. This function takes 'tr_tags' as an input and gives the output as a dictionary of lists.\n",
    "\n"
   ]
  },
  {
   "cell_type": "markdown",
   "metadata": {},
   "source": [
    "### Save the extracted information to a csv file.\n",
    "\n",
    "Once all the countries are parsed, the information needs to be saved in a csv file for usability.\n",
    "To do this, first we have to create a dataframe from above dictionary of lists using pandas and then convert this dataframe to a csv file using pandas again.\n",
    "\n",
    "Let us create a dataframe using `pd.DataFrame` function."
   ]
  },
  {
   "cell_type": "code",
   "execution_count": 35,
   "metadata": {},
   "outputs": [
    {
     "data": {
      "text/html": [
       "<div>\n",
       "<style scoped>\n",
       "    .dataframe tbody tr th:only-of-type {\n",
       "        vertical-align: middle;\n",
       "    }\n",
       "\n",
       "    .dataframe tbody tr th {\n",
       "        vertical-align: top;\n",
       "    }\n",
       "\n",
       "    .dataframe thead th {\n",
       "        text-align: right;\n",
       "    }\n",
       "</style>\n",
       "<table border=\"1\" class=\"dataframe\">\n",
       "  <thead>\n",
       "    <tr style=\"text-align: right;\">\n",
       "      <th></th>\n",
       "      <th>Country_name</th>\n",
       "      <th>Country_elctricity</th>\n",
       "      <th>Production_year</th>\n",
       "      <th>Country_URL</th>\n",
       "    </tr>\n",
       "  </thead>\n",
       "  <tbody>\n",
       "    <tr>\n",
       "      <th>0</th>\n",
       "      <td>China</td>\n",
       "      <td>7,503,400</td>\n",
       "      <td>2020</td>\n",
       "      <td>https://en.wikipedia.org/wiki/Electricity_sect...</td>\n",
       "    </tr>\n",
       "    <tr>\n",
       "      <th>1</th>\n",
       "      <td>United States</td>\n",
       "      <td>4,286,600</td>\n",
       "      <td>2020</td>\n",
       "      <td>https://en.wikipedia.org/wiki/Electricity_sect...</td>\n",
       "    </tr>\n",
       "    <tr>\n",
       "      <th>2</th>\n",
       "      <td>India</td>\n",
       "      <td>1,560,900</td>\n",
       "      <td>2020</td>\n",
       "      <td>https://en.wikipedia.org/wiki/Electricity_sect...</td>\n",
       "    </tr>\n",
       "    <tr>\n",
       "      <th>3</th>\n",
       "      <td>Russia</td>\n",
       "      <td>1,085,400</td>\n",
       "      <td>2020</td>\n",
       "      <td>https://en.wikipedia.org/wiki/Electricity_sect...</td>\n",
       "    </tr>\n",
       "    <tr>\n",
       "      <th>4</th>\n",
       "      <td>Japan</td>\n",
       "      <td>1,004,800</td>\n",
       "      <td>2020</td>\n",
       "      <td>https://en.wikipedia.org/wiki/Electricity_sect...</td>\n",
       "    </tr>\n",
       "    <tr>\n",
       "      <th>...</th>\n",
       "      <td>...</td>\n",
       "      <td>...</td>\n",
       "      <td>...</td>\n",
       "      <td>...</td>\n",
       "    </tr>\n",
       "    <tr>\n",
       "      <th>204</th>\n",
       "      <td>Kiribati</td>\n",
       "      <td>29</td>\n",
       "      <td>2016</td>\n",
       "      <td>https://en.wikipedia.org/wiki/Kiribati</td>\n",
       "    </tr>\n",
       "    <tr>\n",
       "      <th>205</th>\n",
       "      <td>Montserrat</td>\n",
       "      <td>24</td>\n",
       "      <td>2016</td>\n",
       "      <td>https://en.wikipedia.org/wiki/Montserrat</td>\n",
       "    </tr>\n",
       "    <tr>\n",
       "      <th>206</th>\n",
       "      <td>Falkland Islands</td>\n",
       "      <td>19</td>\n",
       "      <td>2016</td>\n",
       "      <td>https://en.wikipedia.org/wiki/Falkland_Islands</td>\n",
       "    </tr>\n",
       "    <tr>\n",
       "      <th>207</th>\n",
       "      <td>Saint Helena</td>\n",
       "      <td>7</td>\n",
       "      <td>2016</td>\n",
       "      <td>https://en.wikipedia.org/wiki/Saint_Helena</td>\n",
       "    </tr>\n",
       "    <tr>\n",
       "      <th>208</th>\n",
       "      <td>Niue</td>\n",
       "      <td>3</td>\n",
       "      <td>2016</td>\n",
       "      <td>https://en.wikipedia.org/wiki/Niue</td>\n",
       "    </tr>\n",
       "  </tbody>\n",
       "</table>\n",
       "<p>209 rows × 4 columns</p>\n",
       "</div>"
      ],
      "text/plain": [
       "         Country_name Country_elctricity Production_year  \\\n",
       "0               China          7,503,400            2020   \n",
       "1       United States          4,286,600            2020   \n",
       "2               India          1,560,900            2020   \n",
       "3              Russia          1,085,400            2020   \n",
       "4               Japan          1,004,800            2020   \n",
       "..                ...                ...             ...   \n",
       "204          Kiribati                 29            2016   \n",
       "205        Montserrat                 24            2016   \n",
       "206  Falkland Islands                 19            2016   \n",
       "207      Saint Helena                  7            2016   \n",
       "208              Niue                  3            2016   \n",
       "\n",
       "                                           Country_URL  \n",
       "0    https://en.wikipedia.org/wiki/Electricity_sect...  \n",
       "1    https://en.wikipedia.org/wiki/Electricity_sect...  \n",
       "2    https://en.wikipedia.org/wiki/Electricity_sect...  \n",
       "3    https://en.wikipedia.org/wiki/Electricity_sect...  \n",
       "4    https://en.wikipedia.org/wiki/Electricity_sect...  \n",
       "..                                                 ...  \n",
       "204             https://en.wikipedia.org/wiki/Kiribati  \n",
       "205           https://en.wikipedia.org/wiki/Montserrat  \n",
       "206     https://en.wikipedia.org/wiki/Falkland_Islands  \n",
       "207         https://en.wikipedia.org/wiki/Saint_Helena  \n",
       "208                 https://en.wikipedia.org/wiki/Niue  \n",
       "\n",
       "[209 rows x 4 columns]"
      ]
     },
     "execution_count": 35,
     "metadata": {},
     "output_type": "execute_result"
    }
   ],
   "source": [
    "topic_countries_dict=get_all_countries(tr_tags)\n",
    "countries_df=pd.DataFrame(topic_countries_dict)\n",
    "countries_df"
   ]
  },
  {
   "cell_type": "markdown",
   "metadata": {},
   "source": [
    "Now use `countries_df.to_csv` function to get a csv file."
   ]
  },
  {
   "cell_type": "code",
   "execution_count": 36,
   "metadata": {},
   "outputs": [],
   "source": [
    "countries_df.to_csv('List_of_countries_by_electricity_production.csv',index=False)"
   ]
  },
  {
   "cell_type": "markdown",
   "metadata": {},
   "source": [
    "We can see whether the file is listed or not locally within Jupyter using \"File > open\".\n",
    "![](https://i.imgur.com/hjWoxJX.png)"
   ]
  },
  {
   "cell_type": "markdown",
   "metadata": {},
   "source": [
    "The data inside the csv file is shown here:\n",
    "![](https://i.imgur.com/wgiblJ9.png)"
   ]
  },
  {
   "cell_type": "markdown",
   "metadata": {},
   "source": [
    "Let us code a helper function to create a csv file."
   ]
  },
  {
   "cell_type": "code",
   "execution_count": 37,
   "metadata": {},
   "outputs": [],
   "source": [
    "def get_csv(topic_dict,path):\n",
    "    topic_country_df=pd.DataFrame(topic_dict)\n",
    "    topic_country_df.to_csv(path,index=False)"
   ]
  },
  {
   "cell_type": "markdown",
   "metadata": {},
   "source": [
    "Let us write a function which will take topic url as an input and generates a csv file."
   ]
  },
  {
   "cell_type": "code",
   "execution_count": 38,
   "metadata": {},
   "outputs": [],
   "source": [
    "def scrape_countries(topic_url,path):\n",
    "    #extracting tr_tags \n",
    "    tr_tags=get_tr_tags(topic_url)\n",
    "    #creating python list of dictionaries\n",
    "    topic_country_dict=get_all_countries(tr_tags)\n",
    "    #Writing extracted data to a csv file\n",
    "    get_csv(topic_country_dict,path)\n",
    "    print('The csv file is created with the name {}'.format(path))"
   ]
  },
  {
   "cell_type": "markdown",
   "metadata": {},
   "source": [
    "We'll test the function `scrape_countries` "
   ]
  },
  {
   "cell_type": "code",
   "execution_count": 39,
   "metadata": {},
   "outputs": [
    {
     "name": "stdout",
     "output_type": "stream",
     "text": [
      "The csv file is created with the name List_of_countries_by_electricity_production.csv\n"
     ]
    }
   ],
   "source": [
    "scrape_countries(topic_url, 'List_of_countries_by_electricity_production.csv')"
   ]
  },
  {
   "cell_type": "markdown",
   "metadata": {},
   "source": [
    "### Putting all the functions in a single cell"
   ]
  },
  {
   "cell_type": "code",
   "execution_count": 40,
   "metadata": {},
   "outputs": [],
   "source": [
    "!pip install requests --upgrade --quiet\n",
    "import requests\n",
    "\n",
    "!pip install bs4 --upgrade --quiet\n",
    "from bs4 import BeautifulSoup\n",
    "\n",
    "!pip install pandas --upgrade --quiet\n",
    "import pandas as pd\n",
    "\n",
    "def scrape_countries(topic_url,path):\n",
    "    #extracting tr_tags \n",
    "    tr_tags=get_tr_tags(topic_url)\n",
    "    #creating python list of dictionaries\n",
    "    topic_country_dict=get_all_countries(tr_tags)\n",
    "    #Writing extracted data to a csv file\n",
    "    get_csv(topic_country_dict,path)\n",
    "    print('The csv file is created with the name {}'.format(path))\n",
    "def get_tr_tags(topic_url):\n",
    "    #download webpage using 'requests'\n",
    "    response=requests.get(topic_url)\n",
    "    #checking status code\n",
    "    if response.status_code !=200:\n",
    "        raise Exception('Unable to fetch data from',topic_url)\n",
    "    #if status code is 200, get beautiful doc using beautifulsoup\n",
    "    doc=BeautifulSoup(response.text)\n",
    "    #extract table tags from beautiful doc\n",
    "    table_tags=doc.find_all('table',class_='wikitable sortable static-row-numbers plainrowheaders srn-white-background')\n",
    "    #extract tr_tags from table_tag[0]\n",
    "    tr_tags=table_tags[0].find_all('tr')\n",
    "    return tr_tags\n",
    "def get_country(tr_tag):\n",
    "    #extract th tag from a tr_tag\n",
    "    th_tag=tr_tag.find('th')\n",
    "    #obtain country name which is in the 'th' tag using .text\n",
    "    country_name=th_tag.text.strip().replace('\\u202f*','')\n",
    "    #specifying base url to get country url\n",
    "    base_url='https://en.wikipedia.org'\n",
    "    #country url is concatenation of base url with the href in the th tag\n",
    "    country_url=base_url+th_tag.find('a')['href'].strip()\n",
    "    #access td tags from tr tag\n",
    "    td_tags=tr_tag.find_all('td')\n",
    "    #obtain country electricity from first td tag using .text\n",
    "    country_electricity =td_tags[0].text.strip()\n",
    "    #obtain production year from span tag inside the second td tag using .text\n",
    "    span_tag=td_tags[1].find('span')\n",
    "    if span_tag==None:\n",
    "        production_year=td_tags[1].text.replace('[4]','').strip()\n",
    "    else:\n",
    "        production_year=span_tag.text\n",
    "    #return country full details \n",
    "    return country_name, country_electricity,production_year,country_url \n",
    "    \n",
    "def get_all_countries(tr_tags):\n",
    "    #extract all the countries details\n",
    "    topic_countries_dict={'Country_name':[],'Country_elctricity':[],'Production_year':[],'Country_URL':[]}\n",
    "    for i in range(2,len(tr_tags)):\n",
    "        country_info=get_country(tr_tags[i])\n",
    "        topic_countries_dict['Country_name'].append(country_info[0])\n",
    "        topic_countries_dict['Country_elctricity'].append(country_info[1])\n",
    "        topic_countries_dict['Production_year'].append(country_info[2])\n",
    "        topic_countries_dict['Country_URL'].append(country_info[3])\n",
    "    return topic_countries_dict\n",
    "def get_csv(topic_dict,path):\n",
    "    topic_country_df=pd.DataFrame(topic_dict)\n",
    "    topic_country_df.to_csv(path,index=False)"
   ]
  },
  {
   "cell_type": "code",
   "execution_count": 41,
   "metadata": {},
   "outputs": [
    {
     "name": "stdout",
     "output_type": "stream",
     "text": [
      "The csv file is created with the name List_of_countries_by_electricity_production.csv\n"
     ]
    }
   ],
   "source": [
    "scrape_countries('https://en.wikipedia.org/wiki/List_of_countries_by_electricity_production','List_of_countries_by_electricity_production.csv')"
   ]
  },
  {
   "cell_type": "code",
   "execution_count": 71,
   "metadata": {
    "scrolled": false
   },
   "outputs": [
    {
     "data": {
      "application/javascript": [
       "window.require && require([\"base/js/namespace\"],function(Jupyter){Jupyter.notebook.save_checkpoint()})"
      ],
      "text/plain": [
       "<IPython.core.display.Javascript object>"
      ]
     },
     "metadata": {},
     "output_type": "display_data"
    },
    {
     "name": "stdout",
     "output_type": "stream",
     "text": [
      "[jovian] Updating notebook \"prasanthi-vvit/webscraping-project-final\" on https://jovian.ai\u001b[0m\n",
      "[jovian] Committed successfully! https://jovian.ai/prasanthi-vvit/webscraping-project-final\u001b[0m\n"
     ]
    },
    {
     "data": {
      "text/plain": [
       "'https://jovian.ai/prasanthi-vvit/webscraping-project-final'"
      ]
     },
     "execution_count": 71,
     "metadata": {},
     "output_type": "execute_result"
    }
   ],
   "source": [
    "jovian.commit()"
   ]
  },
  {
   "cell_type": "markdown",
   "metadata": {},
   "source": [
    "## Section2: Scraping States of India by Installed Power Capacity\n",
    "\n",
    "This section will discuss about scraping states of India by installed power capacity on the page https://en.wikipedia.org/wiki/Electricity_sector_in_India.\n",
    "\n",
    "![List of states](https://i.imgur.com/QW4kN01.png)\n",
    "\n",
    "The project outlines similar to section 1 will be followed here. But instead of explaining each bit as in the previous section, I have directly given the functions with explanations hoping that the previous section has enough inputs."
   ]
  },
  {
   "cell_type": "markdown",
   "metadata": {},
   "source": [
    "We'll access India's URL from `get_all_countries` function and assign to a variable."
   ]
  },
  {
   "cell_type": "code",
   "execution_count": 44,
   "metadata": {},
   "outputs": [
    {
     "data": {
      "text/plain": [
       "'https://en.wikipedia.org/wiki/Electricity_sector_in_India'"
      ]
     },
     "execution_count": 44,
     "metadata": {},
     "output_type": "execute_result"
    }
   ],
   "source": [
    "topic2_url=get_all_countries(tr_tags)['Country_URL'][2]\n",
    "topic2_url"
   ]
  },
  {
   "cell_type": "markdown",
   "metadata": {},
   "source": [
    "### We'll create a helper function called `get_table2_rows` to do the following:\n",
    "* download the page,\n",
    "* parse the data, \n",
    "* and extract the table rows."
   ]
  },
  {
   "cell_type": "code",
   "execution_count": 45,
   "metadata": {},
   "outputs": [],
   "source": [
    "def get_table2_rows(topic2_url):\n",
    "    # downloads the web page\n",
    "    response2=requests.get(topic2_url)\n",
    "    # checks the status code\n",
    "    if response2.status_code !=200:\n",
    "        print('status code is',response.status_code)\n",
    "        raise Exception('Failed to fetch web page')\n",
    "    # creates a beautiful doc\n",
    "    doc2=BeautifulSoup(response2.text)\n",
    "    # access the table atg\n",
    "    table2_tag=doc2.find_all('table',class_=\"wikitable sortable\")\n",
    "    # extract table rows\n",
    "    tr_tags2=table2_tag[3].find_all('tr')\n",
    "    return tr_tags2"
   ]
  },
  {
   "cell_type": "code",
   "execution_count": 46,
   "metadata": {},
   "outputs": [
    {
     "data": {
      "text/plain": [
       "<tr>\n",
       "<td><a href=\"/wiki/Maharashtra\" title=\"Maharashtra\">Maharashtra</a></td>\n",
       "<td align=\"right\">24,966</td>\n",
       "<td align=\"center\">-</td>\n",
       "<td align=\"right\">3,207</td>\n",
       "<td align=\"center\">-</td>\n",
       "<td align=\"right\" style=\"background-color: #ddf;\">28,173</td>\n",
       "<td align=\"right\">1,400</td>\n",
       "<td align=\"right\">3,047</td>\n",
       "<td align=\"right\">10,383</td>\n",
       "<td align=\"right\" style=\"background-color: #ddf;\">13,430</td>\n",
       "<td align=\"right\" style=\"background-color: #dfd;\">43,003</td>\n",
       "<td align=\"right\" style=\"background-color: #dfd;\">11.20%</td>\n",
       "<td style=\"background-color: #dfd;\">31.23%\n",
       "</td></tr>"
      ]
     },
     "execution_count": 46,
     "metadata": {},
     "output_type": "execute_result"
    }
   ],
   "source": [
    "tr_tags2=get_table2_rows(topic2_url)\n",
    "tr_tags2[3]"
   ]
  },
  {
   "cell_type": "markdown",
   "metadata": {},
   "source": [
    "### The function by name  `get_table2_headers` gives table headers:\n",
    "As I have to extract many columns from the page, I felt that extracting headers of the columns from the page would be easy. Upon inspection, I found that table headers are in the first two rows of the table. The below function extracts table headers from the first two tr_tags."
   ]
  },
  {
   "cell_type": "code",
   "execution_count": 47,
   "metadata": {},
   "outputs": [],
   "source": [
    "def get_table2_headers(tr_tags2):\n",
    "    headers2=[]\n",
    "    #Obtain header 1 from rows[0]\n",
    "    th_row1=tr_tags2[0].find_all('th')\n",
    "    #access a tags in column_1\n",
    "    a_tags=th_row1[0].find_all('a')\n",
    "    headers2.append(a_tags[0].text+'/'+a_tags[1].text)\n",
    "    #obtain remaining headers from row1\n",
    "    th_tags=tr_tags2[1].find_all('th')\n",
    "    for j in range(len(th_tags)):\n",
    "        headers2.append(th_tags[j].text.strip())\n",
    "    #The missing columns are inserted \n",
    "    headers2.insert(6,'Nuclear')\n",
    "    headers2[5]='Sub-TotalThermal'\n",
    "    # append last three headers from first row\n",
    "    for i in range(4,7):\n",
    "        headers2.append(th_row1[i].text.strip())\n",
    "    return headers2\n"
   ]
  },
  {
   "cell_type": "code",
   "execution_count": 48,
   "metadata": {},
   "outputs": [
    {
     "data": {
      "text/plain": [
       "['State/Union Territory',\n",
       " 'Coal',\n",
       " 'Lignite',\n",
       " 'Gas',\n",
       " 'Diesel',\n",
       " 'Sub-TotalThermal',\n",
       " 'Nuclear',\n",
       " 'Hydel',\n",
       " 'OtherRenewable',\n",
       " 'Sub-TotalRenewable',\n",
       " 'Total(in MW)',\n",
       " '% of National Total',\n",
       " '% Renewable']"
      ]
     },
     "execution_count": 48,
     "metadata": {},
     "output_type": "execute_result"
    }
   ],
   "source": [
    "table2_headers=get_table2_headers(tr_tags2)\n",
    "table2_headers"
   ]
  },
  {
   "cell_type": "markdown",
   "metadata": {},
   "source": [
    "### `get_table2_values` gives the values of a table as a list of lists:\n",
    "Each element in the list represents a row in the table as a list.\n",
    "We can see the table values from third row onwards."
   ]
  },
  {
   "cell_type": "code",
   "execution_count": 49,
   "metadata": {},
   "outputs": [],
   "source": [
    "def get_table2_values(tr_tags2):\n",
    "    table2_values=[]\n",
    "    for i in range(2,len(tr_tags2)):\n",
    "        values1=[]\n",
    "        #access th_tags from  third tr tags onwards\n",
    "        th_tags2=tr_tags2[i].find_all('th')\n",
    "        # access td_tags and append its values\n",
    "        if len(th_tags2)==0:\n",
    "            td_tags2=tr_tags2[i].find_all('td')\n",
    "            for j in range(len(td_tags2)):\n",
    "                values1.append(td_tags2[j].text.strip().replace(',',''))\n",
    "        else:\n",
    "            # append th_tags text to the list\n",
    "            for th_tag2 in th_tags2:\n",
    "                values1.append(th_tag2.text.strip().replace(',',''))\n",
    "        # append each row to the main list\n",
    "        table2_values.append(values1)\n",
    "    return table2_values"
   ]
  },
  {
   "cell_type": "code",
   "execution_count": 50,
   "metadata": {
    "scrolled": true
   },
   "outputs": [
    {
     "data": {
      "text/plain": [
       "['Western Region',\n",
       " '85156',\n",
       " '1540',\n",
       " '10806',\n",
       " '-',\n",
       " '97502',\n",
       " '1840',\n",
       " '7392',\n",
       " '30367',\n",
       " '37759',\n",
       " '137101',\n",
       " '35.69%',\n",
       " '27.54%']"
      ]
     },
     "execution_count": 50,
     "metadata": {},
     "output_type": "execute_result"
    }
   ],
   "source": [
    "table2_values=get_table2_values(tr_tags2)\n",
    "\n",
    "table2_values[0]"
   ]
  },
  {
   "cell_type": "markdown",
   "metadata": {},
   "source": [
    "Let us look at the dataframe "
   ]
  },
  {
   "cell_type": "code",
   "execution_count": 63,
   "metadata": {
    "scrolled": false
   },
   "outputs": [
    {
     "data": {
      "text/html": [
       "<div>\n",
       "<style scoped>\n",
       "    .dataframe tbody tr th:only-of-type {\n",
       "        vertical-align: middle;\n",
       "    }\n",
       "\n",
       "    .dataframe tbody tr th {\n",
       "        vertical-align: top;\n",
       "    }\n",
       "\n",
       "    .dataframe thead th {\n",
       "        text-align: right;\n",
       "    }\n",
       "</style>\n",
       "<table border=\"1\" class=\"dataframe\">\n",
       "  <thead>\n",
       "    <tr style=\"text-align: right;\">\n",
       "      <th></th>\n",
       "      <th>State/Union Territory</th>\n",
       "      <th>Coal</th>\n",
       "      <th>Lignite</th>\n",
       "      <th>Gas</th>\n",
       "      <th>Diesel</th>\n",
       "      <th>Sub-TotalThermal</th>\n",
       "      <th>Nuclear</th>\n",
       "      <th>Hydel</th>\n",
       "      <th>OtherRenewable</th>\n",
       "      <th>Sub-TotalRenewable</th>\n",
       "      <th>Total(in MW)</th>\n",
       "      <th>% of National Total</th>\n",
       "      <th>% Renewable</th>\n",
       "    </tr>\n",
       "  </thead>\n",
       "  <tbody>\n",
       "    <tr>\n",
       "      <th>0</th>\n",
       "      <td>Western Region</td>\n",
       "      <td>85156</td>\n",
       "      <td>1540</td>\n",
       "      <td>10806</td>\n",
       "      <td>-</td>\n",
       "      <td>97502</td>\n",
       "      <td>1840</td>\n",
       "      <td>7392</td>\n",
       "      <td>30367</td>\n",
       "      <td>37759</td>\n",
       "      <td>137101</td>\n",
       "      <td>35.69%</td>\n",
       "      <td>27.54%</td>\n",
       "    </tr>\n",
       "    <tr>\n",
       "      <th>1</th>\n",
       "      <td>Maharashtra</td>\n",
       "      <td>24966</td>\n",
       "      <td>-</td>\n",
       "      <td>3207</td>\n",
       "      <td>-</td>\n",
       "      <td>28173</td>\n",
       "      <td>1400</td>\n",
       "      <td>3047</td>\n",
       "      <td>10383</td>\n",
       "      <td>13430</td>\n",
       "      <td>43003</td>\n",
       "      <td>11.20%</td>\n",
       "      <td>31.23%</td>\n",
       "    </tr>\n",
       "    <tr>\n",
       "      <th>2</th>\n",
       "      <td>Gujarat</td>\n",
       "      <td>14692</td>\n",
       "      <td>1400</td>\n",
       "      <td>7551</td>\n",
       "      <td>-</td>\n",
       "      <td>23643</td>\n",
       "      <td>440</td>\n",
       "      <td>1990</td>\n",
       "      <td>14050</td>\n",
       "      <td>16040</td>\n",
       "      <td>40123</td>\n",
       "      <td>10.45%</td>\n",
       "      <td>39.98%</td>\n",
       "    </tr>\n",
       "    <tr>\n",
       "      <th>3</th>\n",
       "      <td>Madhya Pradesh</td>\n",
       "      <td>21950</td>\n",
       "      <td>-</td>\n",
       "      <td>-</td>\n",
       "      <td>-</td>\n",
       "      <td>21950</td>\n",
       "      <td>-</td>\n",
       "      <td>2235</td>\n",
       "      <td>5282</td>\n",
       "      <td>7516</td>\n",
       "      <td>29466</td>\n",
       "      <td>7.67%</td>\n",
       "      <td>25.51%</td>\n",
       "    </tr>\n",
       "    <tr>\n",
       "      <th>4</th>\n",
       "      <td>Chhattisgarh</td>\n",
       "      <td>23688</td>\n",
       "      <td>-</td>\n",
       "      <td>-</td>\n",
       "      <td>-</td>\n",
       "      <td>23688</td>\n",
       "      <td>-</td>\n",
       "      <td>120</td>\n",
       "      <td>598</td>\n",
       "      <td>718</td>\n",
       "      <td>24406</td>\n",
       "      <td>6.35%</td>\n",
       "      <td>2.94%</td>\n",
       "    </tr>\n",
       "    <tr>\n",
       "      <th>5</th>\n",
       "      <td>Goa</td>\n",
       "      <td>-</td>\n",
       "      <td>-</td>\n",
       "      <td>48</td>\n",
       "      <td>-</td>\n",
       "      <td>48</td>\n",
       "      <td>-</td>\n",
       "      <td>-</td>\n",
       "      <td>8</td>\n",
       "      <td>8</td>\n",
       "      <td>55</td>\n",
       "      <td>0.014%</td>\n",
       "      <td>14.02%</td>\n",
       "    </tr>\n",
       "    <tr>\n",
       "      <th>6</th>\n",
       "      <td>Daman &amp; Diu</td>\n",
       "      <td>-</td>\n",
       "      <td>-</td>\n",
       "      <td>-</td>\n",
       "      <td>-</td>\n",
       "      <td>-</td>\n",
       "      <td>-</td>\n",
       "      <td>-</td>\n",
       "      <td>41</td>\n",
       "      <td>41</td>\n",
       "      <td>40</td>\n",
       "      <td>0.01%</td>\n",
       "      <td>100%</td>\n",
       "    </tr>\n",
       "    <tr>\n",
       "      <th>7</th>\n",
       "      <td>Dadra &amp; Nagar Haveli</td>\n",
       "      <td>-</td>\n",
       "      <td>-</td>\n",
       "      <td>-</td>\n",
       "      <td>-</td>\n",
       "      <td>-</td>\n",
       "      <td>-</td>\n",
       "      <td>-</td>\n",
       "      <td>5</td>\n",
       "      <td>5</td>\n",
       "      <td>5</td>\n",
       "      <td>0.001%</td>\n",
       "      <td>100%</td>\n",
       "    </tr>\n",
       "    <tr>\n",
       "      <th>8</th>\n",
       "      <td>Southern Region</td>\n",
       "      <td>37622</td>\n",
       "      <td>3140</td>\n",
       "      <td>6491</td>\n",
       "      <td>433</td>\n",
       "      <td>47688</td>\n",
       "      <td>3320</td>\n",
       "      <td>11694</td>\n",
       "      <td>43452</td>\n",
       "      <td>55146</td>\n",
       "      <td>108338</td>\n",
       "      <td>28.95%</td>\n",
       "      <td>51.95%</td>\n",
       "    </tr>\n",
       "    <tr>\n",
       "      <th>9</th>\n",
       "      <td>Tamil Nadu</td>\n",
       "      <td>9520</td>\n",
       "      <td>3140</td>\n",
       "      <td>1027</td>\n",
       "      <td>211</td>\n",
       "      <td>13899</td>\n",
       "      <td>2440</td>\n",
       "      <td>2178</td>\n",
       "      <td>14831</td>\n",
       "      <td>17009</td>\n",
       "      <td>33348</td>\n",
       "      <td>8.91%</td>\n",
       "      <td>51.01%</td>\n",
       "    </tr>\n",
       "    <tr>\n",
       "      <th>10</th>\n",
       "      <td>Karnataka</td>\n",
       "      <td>9480</td>\n",
       "      <td>-</td>\n",
       "      <td>-</td>\n",
       "      <td>25</td>\n",
       "      <td>9505</td>\n",
       "      <td>880</td>\n",
       "      <td>3644</td>\n",
       "      <td>15315</td>\n",
       "      <td>18960</td>\n",
       "      <td>29345</td>\n",
       "      <td>7.84%</td>\n",
       "      <td>64.61%</td>\n",
       "    </tr>\n",
       "    <tr>\n",
       "      <th>11</th>\n",
       "      <td>Andhra Pradesh</td>\n",
       "      <td>11590</td>\n",
       "      <td>-</td>\n",
       "      <td>4898</td>\n",
       "      <td>36</td>\n",
       "      <td>16525</td>\n",
       "      <td>-</td>\n",
       "      <td>1610</td>\n",
       "      <td>8505</td>\n",
       "      <td>10115</td>\n",
       "      <td>26640</td>\n",
       "      <td>7.12%</td>\n",
       "      <td>37.97%</td>\n",
       "    </tr>\n",
       "    <tr>\n",
       "      <th>12</th>\n",
       "      <td>Telangana</td>\n",
       "      <td>7032</td>\n",
       "      <td>-</td>\n",
       "      <td>-</td>\n",
       "      <td>-</td>\n",
       "      <td>7032</td>\n",
       "      <td>-</td>\n",
       "      <td>2405</td>\n",
       "      <td>4357</td>\n",
       "      <td>6763</td>\n",
       "      <td>15980</td>\n",
       "      <td>4.27%</td>\n",
       "      <td>49.02%</td>\n",
       "    </tr>\n",
       "    <tr>\n",
       "      <th>13</th>\n",
       "      <td>Kerala</td>\n",
       "      <td>-</td>\n",
       "      <td>-</td>\n",
       "      <td>533</td>\n",
       "      <td>159</td>\n",
       "      <td>694</td>\n",
       "      <td>-</td>\n",
       "      <td>1856</td>\n",
       "      <td>433</td>\n",
       "      <td>2290</td>\n",
       "      <td>2983</td>\n",
       "      <td>0.80%</td>\n",
       "      <td>76.76%</td>\n",
       "    </tr>\n",
       "    <tr>\n",
       "      <th>14</th>\n",
       "      <td>Puducherry</td>\n",
       "      <td>-</td>\n",
       "      <td>-</td>\n",
       "      <td>32</td>\n",
       "      <td>-</td>\n",
       "      <td>32</td>\n",
       "      <td>-</td>\n",
       "      <td>-</td>\n",
       "      <td>8</td>\n",
       "      <td>8</td>\n",
       "      <td>40</td>\n",
       "      <td>0.011%</td>\n",
       "      <td>18.83%</td>\n",
       "    </tr>\n",
       "    <tr>\n",
       "      <th>15</th>\n",
       "      <td>Lakshadweep</td>\n",
       "      <td>-</td>\n",
       "      <td>-</td>\n",
       "      <td>-</td>\n",
       "      <td>-</td>\n",
       "      <td>-</td>\n",
       "      <td>-</td>\n",
       "      <td>-</td>\n",
       "      <td>1</td>\n",
       "      <td>1</td>\n",
       "      <td>1</td>\n",
       "      <td>0.0002%</td>\n",
       "      <td>100%</td>\n",
       "    </tr>\n",
       "    <tr>\n",
       "      <th>16</th>\n",
       "      <td>Northern Region</td>\n",
       "      <td>41659</td>\n",
       "      <td>1580</td>\n",
       "      <td>5781</td>\n",
       "      <td>-</td>\n",
       "      <td>49020</td>\n",
       "      <td>1620</td>\n",
       "      <td>19023</td>\n",
       "      <td>17430</td>\n",
       "      <td>36453</td>\n",
       "      <td>87093</td>\n",
       "      <td>23.32%</td>\n",
       "      <td>41.86%</td>\n",
       "    </tr>\n",
       "    <tr>\n",
       "      <th>17</th>\n",
       "      <td>Uttar Pradesh</td>\n",
       "      <td>22409</td>\n",
       "      <td>-</td>\n",
       "      <td>1493</td>\n",
       "      <td>-</td>\n",
       "      <td>23902</td>\n",
       "      <td>440</td>\n",
       "      <td>501</td>\n",
       "      <td>3350</td>\n",
       "      <td>3852</td>\n",
       "      <td>28194</td>\n",
       "      <td>7.55%</td>\n",
       "      <td>13.66%</td>\n",
       "    </tr>\n",
       "    <tr>\n",
       "      <th>18</th>\n",
       "      <td>Rajasthan</td>\n",
       "      <td>8240</td>\n",
       "      <td>1580</td>\n",
       "      <td>1023</td>\n",
       "      <td>-</td>\n",
       "      <td>10843</td>\n",
       "      <td>1180</td>\n",
       "      <td>411</td>\n",
       "      <td>9834</td>\n",
       "      <td>10245</td>\n",
       "      <td>22268</td>\n",
       "      <td>5.96%</td>\n",
       "      <td>46.01%</td>\n",
       "    </tr>\n",
       "    <tr>\n",
       "      <th>19</th>\n",
       "      <td>Himachal Pradesh</td>\n",
       "      <td>-</td>\n",
       "      <td>-</td>\n",
       "      <td>-</td>\n",
       "      <td>-</td>\n",
       "      <td>-</td>\n",
       "      <td>-</td>\n",
       "      <td>9809</td>\n",
       "      <td>963</td>\n",
       "      <td>10772</td>\n",
       "      <td>10772</td>\n",
       "      <td>2.88%</td>\n",
       "      <td>100%</td>\n",
       "    </tr>\n",
       "    <tr>\n",
       "      <th>20</th>\n",
       "      <td>Punjab</td>\n",
       "      <td>5680</td>\n",
       "      <td>-</td>\n",
       "      <td>-</td>\n",
       "      <td>-</td>\n",
       "      <td>5680</td>\n",
       "      <td>-</td>\n",
       "      <td>1096</td>\n",
       "      <td>1604</td>\n",
       "      <td>2701</td>\n",
       "      <td>8381</td>\n",
       "      <td>2.24%</td>\n",
       "      <td>32.23%</td>\n",
       "    </tr>\n",
       "    <tr>\n",
       "      <th>21</th>\n",
       "      <td>Haryana</td>\n",
       "      <td>5330</td>\n",
       "      <td>-</td>\n",
       "      <td>431</td>\n",
       "      <td>-</td>\n",
       "      <td>5761</td>\n",
       "      <td>-</td>\n",
       "      <td>-</td>\n",
       "      <td>538</td>\n",
       "      <td>538</td>\n",
       "      <td>6300</td>\n",
       "      <td>1.69%</td>\n",
       "      <td>8.55%</td>\n",
       "    </tr>\n",
       "    <tr>\n",
       "      <th>22</th>\n",
       "      <td>Uttarakhand</td>\n",
       "      <td>-</td>\n",
       "      <td>-</td>\n",
       "      <td>450</td>\n",
       "      <td>-</td>\n",
       "      <td>450</td>\n",
       "      <td>-</td>\n",
       "      <td>3756</td>\n",
       "      <td>662</td>\n",
       "      <td>4418</td>\n",
       "      <td>4868</td>\n",
       "      <td>1.30%</td>\n",
       "      <td>90.76%</td>\n",
       "    </tr>\n",
       "    <tr>\n",
       "      <th>23</th>\n",
       "      <td>Jammu and Kashmir</td>\n",
       "      <td>-</td>\n",
       "      <td>-</td>\n",
       "      <td>175</td>\n",
       "      <td>-</td>\n",
       "      <td>175</td>\n",
       "      <td>-</td>\n",
       "      <td>3360</td>\n",
       "      <td>205</td>\n",
       "      <td>3564</td>\n",
       "      <td>3740</td>\n",
       "      <td>1.00%</td>\n",
       "      <td>95.29%</td>\n",
       "    </tr>\n",
       "    <tr>\n",
       "      <th>24</th>\n",
       "      <td>Delhi</td>\n",
       "      <td>-</td>\n",
       "      <td>-</td>\n",
       "      <td>2208</td>\n",
       "      <td>-</td>\n",
       "      <td>2208</td>\n",
       "      <td>-</td>\n",
       "      <td>-</td>\n",
       "      <td>228</td>\n",
       "      <td>228</td>\n",
       "      <td>2436</td>\n",
       "      <td>0.65%</td>\n",
       "      <td>9.38%</td>\n",
       "    </tr>\n",
       "    <tr>\n",
       "      <th>25</th>\n",
       "      <td>Ladakh</td>\n",
       "      <td>-</td>\n",
       "      <td>-</td>\n",
       "      <td>-</td>\n",
       "      <td>-</td>\n",
       "      <td>-</td>\n",
       "      <td>-</td>\n",
       "      <td>89</td>\n",
       "      <td>-</td>\n",
       "      <td>89</td>\n",
       "      <td>89</td>\n",
       "      <td>0.024%</td>\n",
       "      <td>100%</td>\n",
       "    </tr>\n",
       "    <tr>\n",
       "      <th>26</th>\n",
       "      <td>Chandigarh</td>\n",
       "      <td>-</td>\n",
       "      <td>-</td>\n",
       "      <td>-</td>\n",
       "      <td>-</td>\n",
       "      <td>-</td>\n",
       "      <td>-</td>\n",
       "      <td>-</td>\n",
       "      <td>42</td>\n",
       "      <td>42</td>\n",
       "      <td>42</td>\n",
       "      <td>0.011%</td>\n",
       "      <td>100%</td>\n",
       "    </tr>\n",
       "    <tr>\n",
       "      <th>27</th>\n",
       "      <td>Eastern Region</td>\n",
       "      <td>34827</td>\n",
       "      <td>-</td>\n",
       "      <td>100</td>\n",
       "      <td>40</td>\n",
       "      <td>34967</td>\n",
       "      <td>-</td>\n",
       "      <td>5862</td>\n",
       "      <td>1598</td>\n",
       "      <td>7460</td>\n",
       "      <td>42427</td>\n",
       "      <td>11.34%</td>\n",
       "      <td>17.58%</td>\n",
       "    </tr>\n",
       "    <tr>\n",
       "      <th>28</th>\n",
       "      <td>West Bengal</td>\n",
       "      <td>14177</td>\n",
       "      <td>-</td>\n",
       "      <td>100</td>\n",
       "      <td>-</td>\n",
       "      <td>14277</td>\n",
       "      <td>-</td>\n",
       "      <td>1341</td>\n",
       "      <td>568</td>\n",
       "      <td>1909</td>\n",
       "      <td>16186</td>\n",
       "      <td>4.32%</td>\n",
       "      <td>11.80%</td>\n",
       "    </tr>\n",
       "    <tr>\n",
       "      <th>29</th>\n",
       "      <td>Odisha</td>\n",
       "      <td>9800</td>\n",
       "      <td>-</td>\n",
       "      <td>-</td>\n",
       "      <td>-</td>\n",
       "      <td>9800</td>\n",
       "      <td>-</td>\n",
       "      <td>2142</td>\n",
       "      <td>547</td>\n",
       "      <td>2689</td>\n",
       "      <td>12489</td>\n",
       "      <td>3.34%</td>\n",
       "      <td>21.53%</td>\n",
       "    </tr>\n",
       "    <tr>\n",
       "      <th>30</th>\n",
       "      <td>Bihar</td>\n",
       "      <td>6390</td>\n",
       "      <td>-</td>\n",
       "      <td>-</td>\n",
       "      <td>-</td>\n",
       "      <td>6390</td>\n",
       "      <td>-</td>\n",
       "      <td>-</td>\n",
       "      <td>348</td>\n",
       "      <td>348</td>\n",
       "      <td>6738</td>\n",
       "      <td>1.80%</td>\n",
       "      <td>5.18%</td>\n",
       "    </tr>\n",
       "    <tr>\n",
       "      <th>31</th>\n",
       "      <td>Jharkhand</td>\n",
       "      <td>4460</td>\n",
       "      <td>-</td>\n",
       "      <td>-</td>\n",
       "      <td>-</td>\n",
       "      <td>4460</td>\n",
       "      <td>-</td>\n",
       "      <td>210</td>\n",
       "      <td>47</td>\n",
       "      <td>257</td>\n",
       "      <td>4717</td>\n",
       "      <td>1.26%</td>\n",
       "      <td>5.46%</td>\n",
       "    </tr>\n",
       "    <tr>\n",
       "      <th>32</th>\n",
       "      <td>Sikkim</td>\n",
       "      <td>-</td>\n",
       "      <td>-</td>\n",
       "      <td>-</td>\n",
       "      <td>-</td>\n",
       "      <td>-</td>\n",
       "      <td>-</td>\n",
       "      <td>2169</td>\n",
       "      <td>52</td>\n",
       "      <td>2221</td>\n",
       "      <td>2221</td>\n",
       "      <td>0.59%</td>\n",
       "      <td>100%</td>\n",
       "    </tr>\n",
       "    <tr>\n",
       "      <th>33</th>\n",
       "      <td>Andaman and Nicobar Islands</td>\n",
       "      <td>-</td>\n",
       "      <td>-</td>\n",
       "      <td>-</td>\n",
       "      <td>40</td>\n",
       "      <td>40</td>\n",
       "      <td>-</td>\n",
       "      <td>-</td>\n",
       "      <td>34</td>\n",
       "      <td>34</td>\n",
       "      <td>74</td>\n",
       "      <td>0.02%</td>\n",
       "      <td>46.26%</td>\n",
       "    </tr>\n",
       "    <tr>\n",
       "      <th>34</th>\n",
       "      <td>North-Eastern Region</td>\n",
       "      <td>750</td>\n",
       "      <td>-</td>\n",
       "      <td>1776</td>\n",
       "      <td>36</td>\n",
       "      <td>2562</td>\n",
       "      <td>-</td>\n",
       "      <td>1727</td>\n",
       "      <td>369</td>\n",
       "      <td>2096</td>\n",
       "      <td>4658</td>\n",
       "      <td>1.24%</td>\n",
       "      <td>44.99%</td>\n",
       "    </tr>\n",
       "    <tr>\n",
       "      <th>35</th>\n",
       "      <td>Assam</td>\n",
       "      <td>750</td>\n",
       "      <td>-</td>\n",
       "      <td>644</td>\n",
       "      <td>-</td>\n",
       "      <td>1394</td>\n",
       "      <td>-</td>\n",
       "      <td>350</td>\n",
       "      <td>79</td>\n",
       "      <td>429</td>\n",
       "      <td>1823</td>\n",
       "      <td>0.49%</td>\n",
       "      <td>23.51%</td>\n",
       "    </tr>\n",
       "    <tr>\n",
       "      <th>36</th>\n",
       "      <td>Tripura</td>\n",
       "      <td>-</td>\n",
       "      <td>-</td>\n",
       "      <td>1132</td>\n",
       "      <td>-</td>\n",
       "      <td>1132</td>\n",
       "      <td>-</td>\n",
       "      <td>-</td>\n",
       "      <td>25</td>\n",
       "      <td>25</td>\n",
       "      <td>1157</td>\n",
       "      <td>0.31%</td>\n",
       "      <td>2.20%</td>\n",
       "    </tr>\n",
       "    <tr>\n",
       "      <th>37</th>\n",
       "      <td>Arunachal Pradesh</td>\n",
       "      <td>-</td>\n",
       "      <td>-</td>\n",
       "      <td>-</td>\n",
       "      <td>-</td>\n",
       "      <td>-</td>\n",
       "      <td>-</td>\n",
       "      <td>815</td>\n",
       "      <td>136</td>\n",
       "      <td>952</td>\n",
       "      <td>952</td>\n",
       "      <td>0.25%</td>\n",
       "      <td>100%</td>\n",
       "    </tr>\n",
       "    <tr>\n",
       "      <th>38</th>\n",
       "      <td>Meghalaya</td>\n",
       "      <td>-</td>\n",
       "      <td>-</td>\n",
       "      <td>-</td>\n",
       "      <td>-</td>\n",
       "      <td>-</td>\n",
       "      <td>-</td>\n",
       "      <td>322</td>\n",
       "      <td>46</td>\n",
       "      <td>368</td>\n",
       "      <td>368</td>\n",
       "      <td>0.1%</td>\n",
       "      <td>100%</td>\n",
       "    </tr>\n",
       "    <tr>\n",
       "      <th>39</th>\n",
       "      <td>Manipur</td>\n",
       "      <td>-</td>\n",
       "      <td>-</td>\n",
       "      <td>-</td>\n",
       "      <td>36</td>\n",
       "      <td>36</td>\n",
       "      <td>-</td>\n",
       "      <td>105</td>\n",
       "      <td>11</td>\n",
       "      <td>116</td>\n",
       "      <td>152</td>\n",
       "      <td>0.04%</td>\n",
       "      <td>76.44%</td>\n",
       "    </tr>\n",
       "    <tr>\n",
       "      <th>40</th>\n",
       "      <td>Nagaland</td>\n",
       "      <td>-</td>\n",
       "      <td>-</td>\n",
       "      <td>-</td>\n",
       "      <td>-</td>\n",
       "      <td>-</td>\n",
       "      <td>-</td>\n",
       "      <td>75</td>\n",
       "      <td>31</td>\n",
       "      <td>107</td>\n",
       "      <td>107</td>\n",
       "      <td>0.03%</td>\n",
       "      <td>100%</td>\n",
       "    </tr>\n",
       "    <tr>\n",
       "      <th>41</th>\n",
       "      <td>Mizoram</td>\n",
       "      <td>-</td>\n",
       "      <td>-</td>\n",
       "      <td>-</td>\n",
       "      <td>-</td>\n",
       "      <td>-</td>\n",
       "      <td>-</td>\n",
       "      <td>60</td>\n",
       "      <td>38</td>\n",
       "      <td>98</td>\n",
       "      <td>98</td>\n",
       "      <td>0.026%</td>\n",
       "      <td>100%</td>\n",
       "    </tr>\n",
       "    <tr>\n",
       "      <th>42</th>\n",
       "      <td>Total</td>\n",
       "      <td>199594</td>\n",
       "      <td>6260</td>\n",
       "      <td>24956</td>\n",
       "      <td>509</td>\n",
       "      <td>231320</td>\n",
       "      <td>6780</td>\n",
       "      <td>45699</td>\n",
       "      <td>90399</td>\n",
       "      <td>136098</td>\n",
       "      <td>374199</td>\n",
       "      <td>100.00%</td>\n",
       "      <td>36.37%</td>\n",
       "    </tr>\n",
       "  </tbody>\n",
       "</table>\n",
       "</div>"
      ],
      "text/plain": [
       "          State/Union Territory    Coal Lignite    Gas Diesel  \\\n",
       "0                Western Region   85156    1540  10806      -   \n",
       "1                   Maharashtra   24966       -   3207      -   \n",
       "2                       Gujarat   14692    1400   7551      -   \n",
       "3                Madhya Pradesh   21950       -      -      -   \n",
       "4                  Chhattisgarh   23688       -      -      -   \n",
       "5                           Goa       -       -     48      -   \n",
       "6                   Daman & Diu       -       -      -      -   \n",
       "7          Dadra & Nagar Haveli       -       -      -      -   \n",
       "8               Southern Region   37622    3140   6491    433   \n",
       "9                    Tamil Nadu    9520    3140   1027    211   \n",
       "10                    Karnataka    9480       -      -     25   \n",
       "11               Andhra Pradesh   11590       -   4898     36   \n",
       "12                    Telangana    7032       -      -      -   \n",
       "13                       Kerala       -       -    533    159   \n",
       "14                   Puducherry       -       -     32      -   \n",
       "15                  Lakshadweep       -       -      -      -   \n",
       "16              Northern Region   41659    1580   5781      -   \n",
       "17                Uttar Pradesh   22409       -   1493      -   \n",
       "18                    Rajasthan    8240    1580   1023      -   \n",
       "19             Himachal Pradesh       -       -      -      -   \n",
       "20                       Punjab    5680       -      -      -   \n",
       "21                      Haryana    5330       -    431      -   \n",
       "22                  Uttarakhand       -       -    450      -   \n",
       "23            Jammu and Kashmir       -       -    175      -   \n",
       "24                        Delhi       -       -   2208      -   \n",
       "25                       Ladakh       -       -      -      -   \n",
       "26                   Chandigarh       -       -      -      -   \n",
       "27               Eastern Region   34827       -    100     40   \n",
       "28                  West Bengal   14177       -    100      -   \n",
       "29                       Odisha    9800       -      -      -   \n",
       "30                        Bihar    6390       -      -      -   \n",
       "31                    Jharkhand    4460       -      -      -   \n",
       "32                       Sikkim       -       -      -      -   \n",
       "33  Andaman and Nicobar Islands       -       -      -     40   \n",
       "34         North-Eastern Region     750       -   1776     36   \n",
       "35                        Assam     750       -    644      -   \n",
       "36                      Tripura       -       -   1132      -   \n",
       "37            Arunachal Pradesh       -       -      -      -   \n",
       "38                    Meghalaya       -       -      -      -   \n",
       "39                      Manipur       -       -      -     36   \n",
       "40                     Nagaland       -       -      -      -   \n",
       "41                      Mizoram       -       -      -      -   \n",
       "42                        Total  199594    6260  24956    509   \n",
       "\n",
       "   Sub-TotalThermal Nuclear  Hydel OtherRenewable Sub-TotalRenewable  \\\n",
       "0             97502    1840   7392          30367              37759   \n",
       "1             28173    1400   3047          10383              13430   \n",
       "2             23643     440   1990          14050              16040   \n",
       "3             21950       -   2235           5282               7516   \n",
       "4             23688       -    120            598                718   \n",
       "5                48       -      -              8                  8   \n",
       "6                 -       -      -             41                 41   \n",
       "7                 -       -      -              5                  5   \n",
       "8             47688    3320  11694          43452              55146   \n",
       "9             13899    2440   2178          14831              17009   \n",
       "10             9505     880   3644          15315              18960   \n",
       "11            16525       -   1610           8505              10115   \n",
       "12             7032       -   2405           4357               6763   \n",
       "13              694       -   1856            433               2290   \n",
       "14               32       -      -              8                  8   \n",
       "15                -       -      -              1                  1   \n",
       "16            49020    1620  19023          17430              36453   \n",
       "17            23902     440    501           3350               3852   \n",
       "18            10843    1180    411           9834              10245   \n",
       "19                -       -   9809            963              10772   \n",
       "20             5680       -   1096           1604               2701   \n",
       "21             5761       -      -            538                538   \n",
       "22              450       -   3756            662               4418   \n",
       "23              175       -   3360            205               3564   \n",
       "24             2208       -      -            228                228   \n",
       "25                -       -     89              -                 89   \n",
       "26                -       -      -             42                 42   \n",
       "27            34967       -   5862           1598               7460   \n",
       "28            14277       -   1341            568               1909   \n",
       "29             9800       -   2142            547               2689   \n",
       "30             6390       -      -            348                348   \n",
       "31             4460       -    210             47                257   \n",
       "32                -       -   2169             52               2221   \n",
       "33               40       -      -             34                 34   \n",
       "34             2562       -   1727            369               2096   \n",
       "35             1394       -    350             79                429   \n",
       "36             1132       -      -             25                 25   \n",
       "37                -       -    815            136                952   \n",
       "38                -       -    322             46                368   \n",
       "39               36       -    105             11                116   \n",
       "40                -       -     75             31                107   \n",
       "41                -       -     60             38                 98   \n",
       "42           231320    6780  45699          90399             136098   \n",
       "\n",
       "   Total(in MW) % of National Total % Renewable  \n",
       "0        137101              35.69%      27.54%  \n",
       "1         43003              11.20%      31.23%  \n",
       "2         40123              10.45%      39.98%  \n",
       "3         29466               7.67%      25.51%  \n",
       "4         24406               6.35%       2.94%  \n",
       "5            55              0.014%      14.02%  \n",
       "6            40               0.01%        100%  \n",
       "7             5              0.001%        100%  \n",
       "8        108338              28.95%      51.95%  \n",
       "9         33348               8.91%      51.01%  \n",
       "10        29345               7.84%      64.61%  \n",
       "11        26640               7.12%      37.97%  \n",
       "12        15980               4.27%      49.02%  \n",
       "13         2983               0.80%      76.76%  \n",
       "14           40              0.011%      18.83%  \n",
       "15            1             0.0002%        100%  \n",
       "16        87093              23.32%      41.86%  \n",
       "17        28194               7.55%      13.66%  \n",
       "18        22268               5.96%      46.01%  \n",
       "19        10772               2.88%        100%  \n",
       "20         8381               2.24%      32.23%  \n",
       "21         6300               1.69%       8.55%  \n",
       "22         4868               1.30%      90.76%  \n",
       "23         3740               1.00%      95.29%  \n",
       "24         2436               0.65%       9.38%  \n",
       "25           89              0.024%        100%  \n",
       "26           42              0.011%        100%  \n",
       "27        42427              11.34%      17.58%  \n",
       "28        16186               4.32%      11.80%  \n",
       "29        12489               3.34%      21.53%  \n",
       "30         6738               1.80%       5.18%  \n",
       "31         4717               1.26%       5.46%  \n",
       "32         2221               0.59%        100%  \n",
       "33           74               0.02%      46.26%  \n",
       "34         4658               1.24%      44.99%  \n",
       "35         1823               0.49%      23.51%  \n",
       "36         1157               0.31%       2.20%  \n",
       "37          952               0.25%        100%  \n",
       "38          368                0.1%        100%  \n",
       "39          152               0.04%      76.44%  \n",
       "40          107               0.03%        100%  \n",
       "41           98              0.026%        100%  \n",
       "42       374199             100.00%      36.37%  "
      ]
     },
     "execution_count": 63,
     "metadata": {},
     "output_type": "execute_result"
    }
   ],
   "source": [
    "states_df=pd.DataFrame(table2_values,columns=table2_headers)\n",
    "states_df"
   ]
  },
  {
   "cell_type": "markdown",
   "metadata": {},
   "source": [
    "### The function `get_csv2` generates a csv file:\n",
    "This file takes headers, values and path as an inputs, creates a dataframe from list of lists and then generates a csv file from dataframe using pandas."
   ]
  },
  {
   "cell_type": "code",
   "execution_count": 64,
   "metadata": {},
   "outputs": [],
   "source": [
    "def get_csv2(headers,values,path):\n",
    "    #creates a dataframe using pandas from list of lists\n",
    "    topic2_df=pd.DataFrame(values,columns=headers)\n",
    "    #generates a csv file from dataframe\n",
    "    topic2_df.to_csv(path,index=False)\n",
    "    print('The csv file is created with the name {}'.format(path))"
   ]
  },
  {
   "cell_type": "code",
   "execution_count": 65,
   "metadata": {},
   "outputs": [
    {
     "name": "stdout",
     "output_type": "stream",
     "text": [
      "The csv file is created with the name States_of_India_by_installed_power_capacity.csv\n"
     ]
    }
   ],
   "source": [
    "get_csv2(table2_headers,table2_values,'States_of_India_by_installed_power_capacity.csv')"
   ]
  },
  {
   "cell_type": "markdown",
   "metadata": {},
   "source": [
    "We'll see whether the file is listed or not locally within Jupyter using \"File > open\".\n",
    "![](https://i.imgur.com/uvGzFTy.png)\n",
    "The data inside the csv file is shown here\n",
    "![](https://i.imgur.com/QB7NrHe.png)"
   ]
  },
  {
   "cell_type": "markdown",
   "metadata": {},
   "source": [
    "### The function `scrape_states`  uses all the above functions to generate a csv file.\n",
    "This function takes topic url and path as an inputs and generates a second csv file as shown below."
   ]
  },
  {
   "cell_type": "code",
   "execution_count": 55,
   "metadata": {},
   "outputs": [],
   "source": [
    "def scrape_states(topic2_url,path):\n",
    "    # Extract table rows\n",
    "    tr_tags2=get_table2_rows(topic2_url)\n",
    "    # Extract headers from table rows\n",
    "    headers=get_table2_headers(tr_tags2)\n",
    "    # Extract table values from table rows\n",
    "    values=get_table2_values(tr_tags2)\n",
    "    # generates csv file\n",
    "    get_csv2(headers,values,path)\n",
    "    "
   ]
  },
  {
   "cell_type": "code",
   "execution_count": 56,
   "metadata": {},
   "outputs": [
    {
     "name": "stdout",
     "output_type": "stream",
     "text": [
      "The csv file is created with the name States_of_India_by_installed_power_capacity.csv\n"
     ]
    }
   ],
   "source": [
    "scrape_states(topic2_url,'States_of_India_by_installed_power_capacity.csv')"
   ]
  },
  {
   "cell_type": "markdown",
   "metadata": {},
   "source": [
    "### Putting all the functions defined in this section into a single cell"
   ]
  },
  {
   "cell_type": "code",
   "execution_count": 57,
   "metadata": {},
   "outputs": [],
   "source": [
    "def scrape_states(topic2_url,path):\n",
    "    # Extract table rows\n",
    "    tr_tags2=get_table2_rows(topic2_url)\n",
    "    # Extract headers from table rows\n",
    "    headers=get_table2_headers(tr_tags2)\n",
    "    # Extract table values from table rows\n",
    "    values=get_table2_values(tr_tags2)\n",
    "    # generates csv file\n",
    "    get_csv2(headers,values,path)\n",
    "    \n",
    "def get_table2_rows(topic2_url):\n",
    "    # downloads the web page\n",
    "    response2=requests.get(topic2_url)\n",
    "    # checks the status code\n",
    "    if response2.status_code !=200:\n",
    "        print('status code is',response.status_code)\n",
    "        raise Exception('Failed to fetch web page')\n",
    "    # creates a beautiful doc\n",
    "    doc2=BeautifulSoup(response2.text)\n",
    "    # access the table atg\n",
    "    table2_tag=doc2.find_all('table',class_=\"wikitable sortable\")\n",
    "    # extract table rows\n",
    "    tr_tags2=table2_tag[3].find_all('tr')\n",
    "    return tr_tags2\n",
    "\n",
    "def get_table2_headers(tr_tags2):\n",
    "    headers2=[]\n",
    "    #Obtain header 1 from rows[0]\n",
    "    th_row1=tr_tags2[0].find_all('th')\n",
    "    #access a tags in column_1\n",
    "    a_tags=th_row1[0].find_all('a')\n",
    "    headers2.append(a_tags[0].text+'/'+a_tags[1].text)\n",
    "    #obtain remaining headers from row1\n",
    "    th_tags=tr_tags2[1].find_all('th')\n",
    "    for j in range(len(th_tags)):\n",
    "        headers2.append(th_tags[j].text.strip())\n",
    "    #The missing columns are inserted \n",
    "    headers2.insert(6,'Nuclear')\n",
    "    headers2[5]='Sub-TotalThermal'\n",
    "    # append last three headers from first row\n",
    "    for i in range(4,7):\n",
    "        headers2.append(th_row1[i].text.strip())\n",
    "    return headers2\n",
    "\n",
    "def get_table2_values(tr_tags2):\n",
    "    table2_values=[]\n",
    "    for i in range(2,len(tr_tags2)):\n",
    "        values1=[]\n",
    "        #access th_tags from  third tr tags onwards\n",
    "        th_tags2=tr_tags2[i].find_all('th')\n",
    "        # access td_tags and append its values\n",
    "        if len(th_tags2)==0:\n",
    "            td_tags2=tr_tags2[i].find_all('td')\n",
    "            for j in range(len(td_tags2)):\n",
    "                values1.append(td_tags2[j].text.strip().replace(',',''))\n",
    "        else:\n",
    "            # append th_tags text to the list\n",
    "            for th_tag2 in th_tags2:\n",
    "                values1.append(th_tag2.text.strip().replace(',',''))\n",
    "        # append each row to the main list\n",
    "        table2_values.append(values1)\n",
    "    return table2_values\n",
    "\n",
    "def get_csv2(headers,values,path):\n",
    "    #creates a dataframe using pandas from list of lists\n",
    "    topic2_df=pd.DataFrame(values,columns=headers)\n",
    "    #generates a csv file from dataframe\n",
    "    topic2_df.to_csv(path,index=False)\n",
    "    print('The csv file is created with the name {}'.format(path))"
   ]
  },
  {
   "cell_type": "code",
   "execution_count": 58,
   "metadata": {},
   "outputs": [
    {
     "name": "stdout",
     "output_type": "stream",
     "text": [
      "The csv file is created with the name States_of_India_by_installed_power_capacity.csv\n"
     ]
    }
   ],
   "source": [
    "scrape_states(topic2_url,'States_of_India_by_installed_power_capacity.csv')"
   ]
  },
  {
   "cell_type": "code",
   "execution_count": 59,
   "metadata": {
    "scrolled": true
   },
   "outputs": [
    {
     "data": {
      "application/javascript": [
       "window.require && require([\"base/js/namespace\"],function(Jupyter){Jupyter.notebook.save_checkpoint()})"
      ],
      "text/plain": [
       "<IPython.core.display.Javascript object>"
      ]
     },
     "metadata": {},
     "output_type": "display_data"
    },
    {
     "name": "stdout",
     "output_type": "stream",
     "text": [
      "[jovian] Updating notebook \"prasanthi-vvit/webscraping-project-final\" on https://jovian.ai\u001b[0m\n",
      "[jovian] Committed successfully! https://jovian.ai/prasanthi-vvit/webscraping-project-final\u001b[0m\n"
     ]
    },
    {
     "data": {
      "text/plain": [
       "'https://jovian.ai/prasanthi-vvit/webscraping-project-final'"
      ]
     },
     "execution_count": 59,
     "metadata": {},
     "output_type": "execute_result"
    }
   ],
   "source": [
    "jovian.commit()"
   ]
  },
  {
   "cell_type": "markdown",
   "metadata": {},
   "source": [
    "## Summary\n",
    "Finally, we have scraped two different web pages and have two csv files ready for data analysis.\n",
    "\n",
    "Let us look at the steps we have followed from the beginning to end.\n",
    "1. The project was divided into two sections:\n",
    "    * Section 1: This section has used the page https://en.wikipedia.org/wiki/List_of_countries_by_electricity_production to scrape country's electricity data.\n",
    "    * Section 2: This section fetched the Indian states electricity data from page https://en.wikipedia.org/wiki/Electricity_sector_in_India.\n",
    "2. First, we have considered section 1 and performed the following:\n",
    "    * The Web page was downloaded using `requests`\n",
    "    * HTML code was parsed using `beautifulsoup4`\n",
    "    * Extracted the required data by inspecting the code\n",
    "    * The data was put into Python dictionary.\n",
    "    * Finally, the csv file was created from the dictionary using `pandas`\n",
    "3. Next, we have considered section 2 and created the following functions to scrape the data:\n",
    "    * `get_table2_rows`: Downloaded the web page using `requests`, parsed the data using `beautifulsoup4` and accessed the table rows.\n",
    "    * `get_table2_headers`: Extracted the table headers.\n",
    "    * `get_table2_values`: Extracted the table values.\n",
    "    * `get_csv2`: saved the information to a csv file\n",
    "    * `scrape_states` : Used all the above functions and generated a CSV file when the topic_url was fed as an input.\n"
   ]
  },
  {
   "cell_type": "markdown",
   "metadata": {},
   "source": [
    "## Future Work\n",
    "Here are some ways in which the project can be extended.\n",
    "\n",
    "1. We can go through each country's URL to fetch the detailed information on that country's electricity generation.\n",
    "3. We can also perform data analysis on the extracted data to get more insights, such as generating the highest and lowest electricity across the globe, and so on...\n"
   ]
  },
  {
   "cell_type": "markdown",
   "metadata": {},
   "source": [
    "## References\n",
    "* Web Scraping and Rest APIs - https://jovian.ai/learn/zero-to-data-analyst-bootcamp/lesson/web-scraping-and-rest-apis\n",
    "\n",
    "* Documentation and Story Telling - https://jovian.ai/learn/zero-to-data-analyst-bootcamp/lesson/documentation-and-storytelling\n",
    "* Project 1-Web Scraping with Python - https://jovian.ai/learn/zero-to-data-analyst-bootcamp/assignment/project-1-web-scraping-with-python\n",
    "* Python official documentation - https://docs.python.org/3/tutorial/index.html\n",
    "* Tutorial on HTML - https://www.htmldog.com/guides/html/ .\n",
    "* Beautiful Soup documentation - https://www.crummy.com/software/BeautifulSoup/bs4/doc/\n",
    "* Requests Documentation - https://docs.python-requests.org/en/latest/\n",
    "* Pandas Documentation - https://pandas.pydata.org/\n",
    "* List of Countries by Electricity Generation - https://en.wikipedia.org/wiki/List_of_countries_by_electricity_production\n",
    "* States of India by Installed Capacity - https://en.wikipedia.org/wiki/Electricity_sector_in_India.\n"
   ]
  },
  {
   "cell_type": "code",
   "execution_count": null,
   "metadata": {},
   "outputs": [
    {
     "data": {
      "application/javascript": [
       "window.require && require([\"base/js/namespace\"],function(Jupyter){Jupyter.notebook.save_checkpoint()})"
      ],
      "text/plain": [
       "<IPython.core.display.Javascript object>"
      ]
     },
     "metadata": {},
     "output_type": "display_data"
    }
   ],
   "source": [
    "jovian.commit()"
   ]
  },
  {
   "cell_type": "code",
   "execution_count": null,
   "metadata": {},
   "outputs": [],
   "source": []
  }
 ],
 "metadata": {
  "kernelspec": {
   "display_name": "Python 3 (ipykernel)",
   "language": "python",
   "name": "python3"
  },
  "language_info": {
   "codemirror_mode": {
    "name": "ipython",
    "version": 3
   },
   "file_extension": ".py",
   "mimetype": "text/x-python",
   "name": "python",
   "nbconvert_exporter": "python",
   "pygments_lexer": "ipython3",
   "version": "3.9.6"
  }
 },
 "nbformat": 4,
 "nbformat_minor": 2
}
